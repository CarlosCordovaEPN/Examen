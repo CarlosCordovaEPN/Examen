{
  "nbformat": 4,
  "nbformat_minor": 0,
  "metadata": {
    "colab": {
      "provenance": [],
      "authorship_tag": "ABX9TyPL6b9AIetSfPucJy9IIMbO",
      "include_colab_link": true
    },
    "kernelspec": {
      "name": "python3",
      "display_name": "Python 3"
    },
    "language_info": {
      "name": "python"
    }
  },
  "cells": [
    {
      "cell_type": "markdown",
      "metadata": {
        "id": "view-in-github",
        "colab_type": "text"
      },
      "source": [
        "<a href=\"https://colab.research.google.com/github/CarlosCordovaEPN/Examen/blob/main/Examen_C%C3%B3rdova.ipynb\" target=\"_parent\"><img src=\"https://colab.research.google.com/assets/colab-badge.svg\" alt=\"Open In Colab\"/></a>"
      ]
    },
    {
      "cell_type": "markdown",
      "source": [
        "LEER EL CSV ROTTEN TANTO CRÍTICAS COMO MOVIES Y GUARDAR EN LAS VARIABLES CORPUS Y MOVIES RESPECTIVAMENTE\n"
      ],
      "metadata": {
        "id": "lxU8QT_9dro-"
      }
    },
    {
      "cell_type": "code",
      "source": [
        "import pandas as pd"
      ],
      "metadata": {
        "id": "Rwki-MGGi053"
      },
      "execution_count": 43,
      "outputs": []
    },
    {
      "cell_type": "code",
      "source": [
        "# prompt: quiero que leas el csv de esta dirección /content/rotten_tomatoes_critic_reviews.csv\n",
        "\n",
        "import pandas as pd\n",
        "\n",
        "corpus = pd.read_csv('/content/rotten_tomatoes_critic_reviews.csv')\n",
        "movies = pd.read_csv('/content/rotten_tomatoes_movies.csv')\n",
        "\n",
        "print(\"corpus\")\n",
        "print(corpus.head())\n",
        "print(\"movies\")\n",
        "print(movies.head())"
      ],
      "metadata": {
        "colab": {
          "base_uri": "https://localhost:8080/"
        },
        "id": "Qza3x-Z5dBZN",
        "outputId": "a73a11d1-d1ca-415f-e3f7-4063b4934be9"
      },
      "execution_count": 44,
      "outputs": [
        {
          "output_type": "stream",
          "name": "stdout",
          "text": [
            "corpus\n",
            "  rotten_tomatoes_link      critic_name  top_critic           publisher_name  \\\n",
            "0            m/0814255  Andrew L. Urban       False           Urban Cinefile   \n",
            "1            m/0814255    Louise Keller       False           Urban Cinefile   \n",
            "2            m/0814255              NaN       False      FILMINK (Australia)   \n",
            "3            m/0814255     Ben McEachen       False  Sunday Mail (Australia)   \n",
            "4            m/0814255      Ethan Alter        True       Hollywood Reporter   \n",
            "\n",
            "  review_type review_score review_date  \\\n",
            "0       Fresh          NaN  2010-02-06   \n",
            "1       Fresh          NaN  2010-02-06   \n",
            "2       Fresh          NaN  2010-02-09   \n",
            "3       Fresh        3.5/5  2010-02-09   \n",
            "4      Rotten          NaN  2010-02-10   \n",
            "\n",
            "                                      review_content  \n",
            "0  A fantasy adventure that fuses Greek mythology...  \n",
            "1  Uma Thurman as Medusa, the gorgon with a coiff...  \n",
            "2  With a top-notch cast and dazzling special eff...  \n",
            "3  Whether audiences will get behind The Lightnin...  \n",
            "4  What's really lacking in The Lightning Thief i...  \n",
            "movies\n",
            "                    rotten_tomatoes_link  \\\n",
            "0                              m/0814255   \n",
            "1                              m/0878835   \n",
            "2                                   m/10   \n",
            "3                 m/1000013-12_angry_men   \n",
            "4  m/1000079-20000_leagues_under_the_sea   \n",
            "\n",
            "                                         movie_title  \\\n",
            "0  Percy Jackson & the Olympians: The Lightning T...   \n",
            "1                                        Please Give   \n",
            "2                                                 10   \n",
            "3                    12 Angry Men (Twelve Angry Men)   \n",
            "4                       20,000 Leagues Under The Sea   \n",
            "\n",
            "                                          movie_info  \\\n",
            "0  Always trouble-prone, the life of teenager Per...   \n",
            "1  Kate (Catherine Keener) and her husband Alex (...   \n",
            "2  A successful, middle-aged Hollywood songwriter...   \n",
            "3  Following the closing arguments in a murder tr...   \n",
            "4  In 1866, Professor Pierre M. Aronnax (Paul Luk...   \n",
            "\n",
            "                                   critics_consensus content_rating  \\\n",
            "0  Though it may seem like just another Harry Pot...             PG   \n",
            "1  Nicole Holofcener's newest might seem slight i...              R   \n",
            "2  Blake Edwards' bawdy comedy may not score a pe...              R   \n",
            "3  Sidney Lumet's feature debut is a superbly wri...             NR   \n",
            "4  One of Disney's finest live-action adventures,...              G   \n",
            "\n",
            "                                              genres          directors  \\\n",
            "0  Action & Adventure, Comedy, Drama, Science Fic...     Chris Columbus   \n",
            "1                                             Comedy  Nicole Holofcener   \n",
            "2                                    Comedy, Romance      Blake Edwards   \n",
            "3                                    Classics, Drama       Sidney Lumet   \n",
            "4           Action & Adventure, Drama, Kids & Family  Richard Fleischer   \n",
            "\n",
            "                                      authors  \\\n",
            "0  Craig Titley, Chris Columbus, Rick Riordan   \n",
            "1                           Nicole Holofcener   \n",
            "2                               Blake Edwards   \n",
            "3                               Reginald Rose   \n",
            "4                                 Earl Felton   \n",
            "\n",
            "                                              actors original_release_date  \\\n",
            "0  Logan Lerman, Brandon T. Jackson, Alexandra Da...            2010-02-12   \n",
            "1  Catherine Keener, Amanda Peet, Oliver Platt, R...            2010-04-30   \n",
            "2  Dudley Moore, Bo Derek, Julie Andrews, Robert ...            1979-10-05   \n",
            "3  Martin Balsam, John Fiedler, Lee J. Cobb, E.G....            1957-04-13   \n",
            "4  James Mason, Kirk Douglas, Paul Lukas, Peter L...            1954-01-01   \n",
            "\n",
            "   ...      production_company  tomatometer_status tomatometer_rating  \\\n",
            "0  ...        20th Century Fox              Rotten               49.0   \n",
            "1  ...  Sony Pictures Classics     Certified-Fresh               87.0   \n",
            "2  ...             Waner Bros.               Fresh               67.0   \n",
            "3  ...    Criterion Collection     Certified-Fresh              100.0   \n",
            "4  ...                  Disney               Fresh               89.0   \n",
            "\n",
            "  tomatometer_count  audience_status  audience_rating audience_count  \\\n",
            "0             149.0          Spilled             53.0       254421.0   \n",
            "1             142.0          Upright             64.0        11574.0   \n",
            "2              24.0          Spilled             53.0        14684.0   \n",
            "3              54.0          Upright             97.0       105386.0   \n",
            "4              27.0          Upright             74.0        68918.0   \n",
            "\n",
            "   tomatometer_top_critics_count  tomatometer_fresh_critics_count  \\\n",
            "0                             43                               73   \n",
            "1                             44                              123   \n",
            "2                              2                               16   \n",
            "3                              6                               54   \n",
            "4                              5                               24   \n",
            "\n",
            "   tomatometer_rotten_critics_count  \n",
            "0                                76  \n",
            "1                                19  \n",
            "2                                 8  \n",
            "3                                 0  \n",
            "4                                 3  \n",
            "\n",
            "[5 rows x 22 columns]\n"
          ]
        }
      ]
    },
    {
      "cell_type": "code",
      "source": [
        "import nltk\n",
        "import re\n",
        "from nltk.corpus import stopwords\n",
        "from nltk.tokenize import word_tokenize\n",
        "from nltk.stem import WordNetLemmatizer\n",
        "\n",
        "\n",
        "nltk.download('punkt')\n",
        "nltk.download('stopwords')\n",
        "nltk.download('wordnet')\n",
        "nltk.download('punkt_tab')"
      ],
      "metadata": {
        "colab": {
          "base_uri": "https://localhost:8080/"
        },
        "id": "2c-VLFkYeBF2",
        "outputId": "ccf80c89-ba79-4f94-a76a-ced21054a256"
      },
      "execution_count": 20,
      "outputs": [
        {
          "output_type": "stream",
          "name": "stderr",
          "text": [
            "[nltk_data] Downloading package punkt to /root/nltk_data...\n",
            "[nltk_data]   Package punkt is already up-to-date!\n",
            "[nltk_data] Downloading package stopwords to /root/nltk_data...\n",
            "[nltk_data]   Package stopwords is already up-to-date!\n",
            "[nltk_data] Downloading package wordnet to /root/nltk_data...\n",
            "[nltk_data]   Package wordnet is already up-to-date!\n",
            "[nltk_data] Downloading package punkt_tab to /root/nltk_data...\n",
            "[nltk_data]   Package punkt_tab is already up-to-date!\n"
          ]
        },
        {
          "output_type": "execute_result",
          "data": {
            "text/plain": [
              "True"
            ]
          },
          "metadata": {},
          "execution_count": 20
        }
      ]
    },
    {
      "cell_type": "markdown",
      "source": [
        "PROCESAMIENTO DEL TEXTO"
      ],
      "metadata": {
        "id": "PdxYUJybiHwn"
      }
    },
    {
      "cell_type": "code",
      "source": [
        "corpus['review_content'] = corpus['review_content'].astype(str)\n",
        "\n",
        "stop_words = set(stopwords.words('english'))\n",
        "lemmatizer = WordNetLemmatizer()\n",
        "\n",
        "# Función de preprocesamiento\n",
        "def preprocess_text(text):\n",
        "    # Convertir a minúsculas\n",
        "    text = text.lower()\n",
        "    # Eliminar caracteres especiales\n",
        "    text = re.sub(r'[^\\w\\s]', '', text)\n",
        "    # Tokenizar\n",
        "    tokens = word_tokenize(text)\n",
        "    # Eliminar stopwords\n",
        "    tokens = [w for w in tokens if w not in stop_words]\n",
        "    # Lematización\n",
        "    tokens = [lemmatizer.lemmatize(w) for w in tokens]\n",
        "    # Unir tokens procesados\n",
        "    return \" \".join(tokens)\n",
        "\n",
        "corpus['review_content_processed'] = corpus['review_content'].apply(preprocess_text)\n",
        "\n",
        "# Guardar el corpus procesado en un archivo CSV\n",
        "corpus.to_csv('/content/processed_corpus.csv', index=False)\n",
        "\n",
        "print(\"Corpus guardado\")"
      ],
      "metadata": {
        "colab": {
          "base_uri": "https://localhost:8080/"
        },
        "id": "3tMb2MZgfyF4",
        "outputId": "bbe43210-63c3-460a-adc1-282d08aa73cf"
      },
      "execution_count": 23,
      "outputs": [
        {
          "output_type": "stream",
          "name": "stdout",
          "text": [
            "Corpus guardado\n"
          ]
        }
      ]
    },
    {
      "cell_type": "code",
      "source": [
        "corpus_processed = pd.read_csv('/content/processed_corpus.csv')\n",
        "print(corpus_processed.head())"
      ],
      "metadata": {
        "colab": {
          "base_uri": "https://localhost:8080/"
        },
        "id": "zwhXJ7Gsi5g2",
        "outputId": "9f531fa9-1e04-40ee-aea0-8279ac223cb6"
      },
      "execution_count": 24,
      "outputs": [
        {
          "output_type": "stream",
          "name": "stdout",
          "text": [
            "  rotten_tomatoes_link      critic_name  top_critic           publisher_name  \\\n",
            "0            m/0814255  Andrew L. Urban       False           Urban Cinefile   \n",
            "1            m/0814255    Louise Keller       False           Urban Cinefile   \n",
            "2            m/0814255              NaN       False      FILMINK (Australia)   \n",
            "3            m/0814255     Ben McEachen       False  Sunday Mail (Australia)   \n",
            "4            m/0814255      Ethan Alter        True       Hollywood Reporter   \n",
            "\n",
            "  review_type review_score review_date  \\\n",
            "0       Fresh          NaN  2010-02-06   \n",
            "1       Fresh          NaN  2010-02-06   \n",
            "2       Fresh          NaN  2010-02-09   \n",
            "3       Fresh        3.5/5  2010-02-09   \n",
            "4      Rotten          NaN  2010-02-10   \n",
            "\n",
            "                                      review_content  \\\n",
            "0  A fantasy adventure that fuses Greek mythology...   \n",
            "1  Uma Thurman as Medusa, the gorgon with a coiff...   \n",
            "2  With a top-notch cast and dazzling special eff...   \n",
            "3  Whether audiences will get behind The Lightnin...   \n",
            "4  What's really lacking in The Lightning Thief i...   \n",
            "\n",
            "                            review_content_processed  \n",
            "0  fantasy adventure fuse greek mythology contemp...  \n",
            "1  uma thurman medusa gorgon coiffure writhing sn...  \n",
            "2  topnotch cast dazzling special effect tide tee...  \n",
            "3  whether audience get behind lightning thief ha...  \n",
            "4  whats really lacking lightning thief genuine s...  \n"
          ]
        }
      ]
    },
    {
      "cell_type": "code",
      "source": [
        "from sklearn.feature_extraction.text import TfidfVectorizer\n",
        "from typing import Dict"
      ],
      "metadata": {
        "id": "tZUlBiJvjFad"
      },
      "execution_count": 34,
      "outputs": []
    },
    {
      "cell_type": "code",
      "source": [
        "def apply_tfidf(self) -> Dict:\n",
        "        tfidf_matrix = self.tfidf_vectorizer.fit_transform(self.corpus['review_content_processed'])\n",
        "\n",
        "        result = {\n",
        "            'matrix': tfidf_matrix,\n",
        "            'vocabulary_size': len(self.tfidf_vectorizer.vocabulary_),\n",
        "            'matrix_shape': tfidf_matrix.shape,\n",
        "            'sparsity': 1.0 - (tfidf_matrix.nnz / (tfidf_matrix.shape[0] * tfidf_matrix.shape[1])),\n",
        "            'non_zero_elements': tfidf_matrix.nnz,\n",
        "            'memory_usage_mb': tfidf_matrix.data.nbytes / (1024 * 1024)\n",
        "        }\n",
        "\n",
        "        self.vectorization_results['TF-IDF'] = result\n",
        "        return result"
      ],
      "metadata": {
        "id": "s2wKuaF3lFZg"
      },
      "execution_count": 40,
      "outputs": []
    },
    {
      "cell_type": "code",
      "source": [
        "vectorizer = TfidfVectorizer()\n",
        "tfidf_matrix = vectorizer.fit_transform(corpus['review_content_processed'])\n",
        "\n",
        "# Print the TF-IDF matrix\n",
        "print(tfidf_matrix)\n",
        "\n",
        "# Print feature names (words)\n",
        "feature_names = vectorizer.get_feature_names_out()\n",
        "print(\"Feature Names:\", feature_names)"
      ],
      "metadata": {
        "colab": {
          "base_uri": "https://localhost:8080/"
        },
        "id": "XJtbfbRGkKye",
        "outputId": "b44dced6-0e0c-490b-d438-bddc361e3ab0"
      },
      "execution_count": 41,
      "outputs": [
        {
          "output_type": "stream",
          "name": "stdout",
          "text": [
            "  (0, 63257)\t0.21576633370526715\n",
            "  (0, 5241)\t0.2066033084157607\n",
            "  (0, 71580)\t0.32768793982449956\n",
            "  (0, 77326)\t0.2897056678960649\n",
            "  (0, 120390)\t0.2832798908663764\n",
            "  (0, 38333)\t0.24091770047732902\n",
            "  (0, 8544)\t0.19340447043165593\n",
            "  (0, 137831)\t0.1969980440550003\n",
            "  (0, 195239)\t0.22779195906776573\n",
            "  (0, 10825)\t0.21219600457012092\n",
            "  (0, 12197)\t0.19869057194301115\n",
            "  (0, 527)\t0.2870176638529357\n",
            "  (0, 74726)\t0.1796191048356458\n",
            "  (0, 179976)\t0.1652963451294654\n",
            "  (0, 40066)\t0.2270714101232311\n",
            "  (0, 204546)\t0.16664137193746542\n",
            "  (0, 184246)\t0.22175684892416853\n",
            "  (0, 197123)\t0.20622420554433152\n",
            "  (0, 170891)\t0.23569948106348187\n",
            "  (1, 63257)\t0.16574157257964656\n",
            "  (1, 191262)\t0.2201616696612169\n",
            "  (1, 184713)\t0.26978574657276955\n",
            "  (1, 112029)\t0.3146166562329108\n",
            "  (1, 76336)\t0.3491221312147386\n",
            "  (1, 35302)\t0.3491221312147386\n",
            "  :\t:\n",
            "  (1130015, 98661)\t0.21802885316850357\n",
            "  (1130015, 38082)\t0.2460591675672836\n",
            "  (1130015, 101546)\t0.21358210112262324\n",
            "  (1130015, 142051)\t0.2754290532122472\n",
            "  (1130015, 142773)\t0.32286248762051745\n",
            "  (1130015, 190345)\t0.3536272491726684\n",
            "  (1130016, 179976)\t0.12693496276106106\n",
            "  (1130016, 152847)\t0.16684360297709827\n",
            "  (1130016, 116198)\t0.16775325646394135\n",
            "  (1130016, 3706)\t0.2241827642266756\n",
            "  (1130016, 145619)\t0.17878798819271358\n",
            "  (1130016, 140161)\t0.19329178397647787\n",
            "  (1130016, 104426)\t0.15807646787045032\n",
            "  (1130016, 84527)\t0.18550698228295595\n",
            "  (1130016, 196092)\t0.16287040968586705\n",
            "  (1130016, 12471)\t0.25659304185000353\n",
            "  (1130016, 175329)\t0.23609676242244731\n",
            "  (1130016, 148484)\t0.17378327894781875\n",
            "  (1130016, 46371)\t0.22239660574813996\n",
            "  (1130016, 152367)\t0.24377652036836978\n",
            "  (1130016, 193673)\t0.2546255206310159\n",
            "  (1130016, 154396)\t0.2710786989836196\n",
            "  (1130016, 26936)\t0.2526760663653065\n",
            "  (1130016, 185079)\t0.34138004896515484\n",
            "  (1130016, 58492)\t0.3781853142017811\n",
            "Feature Names: ['00' '000' '001' ... 'ﬁght' 'ﬁlm' 'ﬁrmly']\n"
          ]
        }
      ]
    },
    {
      "cell_type": "markdown",
      "source": [
        "PROBAR CON ALGUNA QUERY EL SISTEMA"
      ],
      "metadata": {
        "id": "6864r6-inlpy"
      }
    },
    {
      "cell_type": "code",
      "source": [
        "from sklearn.metrics.pairwise import cosine_similarity"
      ],
      "metadata": {
        "id": "70LWJR8qnnvq"
      },
      "execution_count": 49,
      "outputs": []
    },
    {
      "cell_type": "markdown",
      "source": [
        "PRUEBA DE RANKEAR LAS RESEÑAS SIN QUE COMPARE CON EL TÍTULO"
      ],
      "metadata": {
        "id": "2f1AEqPlnqBS"
      }
    },
    {
      "cell_type": "code",
      "source": [
        "# Supongamos que tu consulta (query) ya está preprocesada\n",
        "query = \"greek mythology fantasy adventure\"\n",
        "query_vector = vectorizer.transform([query])\n",
        "\n",
        "# Calcular la similitud coseno entre el query y las reseñas\n",
        "cosine_similarities = cosine_similarity(query_vector, tfidf_matrix)\n",
        "\n",
        "# Obtener índices de las reseñas más similares\n",
        "similar_indices = cosine_similarities.argsort()[0][::-1]  # De mayor a menor similitud\n",
        "\n",
        "# Mostrar las 5 reseñas más similares\n",
        "top_n = 5\n",
        "for idx in similar_indices[:top_n]:\n",
        "    print(f\"Review: {corpus.iloc[idx]['review_content']}\")\n",
        "    print(f\"Similarity Score: {cosine_similarities[0][idx]}\")\n",
        "    print(\"-\" * 50)\n"
      ],
      "metadata": {
        "colab": {
          "base_uri": "https://localhost:8080/"
        },
        "id": "k4N_6P3bjkkN",
        "outputId": "e81bc5b1-fbfe-4b56-d053-7c2716a8662c"
      },
      "execution_count": 42,
      "outputs": [
        {
          "output_type": "stream",
          "name": "stdout",
          "text": [
            "Review: If you really do have a choice, read up the Greek mythology.\n",
            "Similarity Score: 0.5787315450874111\n",
            "--------------------------------------------------\n",
            "Review: It's greek to me.\n",
            "Similarity Score: 0.5754918767308606\n",
            "--------------------------------------------------\n",
            "Review: It's all Greek to me\n",
            "Similarity Score: 0.5754918767308606\n",
            "--------------------------------------------------\n",
            "Review: A fantasy adventure that fuses Greek mythology to contemporary American places and values. Anyone around 15 (give or take a couple of years) will thrill to the visual spectacle\n",
            "Similarity Score: 0.5034053122378844\n",
            "--------------------------------------------------\n",
            "Review: review in Greek\n",
            "Similarity Score: 0.49611438915357914\n",
            "--------------------------------------------------\n"
          ]
        }
      ]
    },
    {
      "cell_type": "markdown",
      "source": [
        "COMPARANDO EL ID ENTRE BASES DE DATOS PARA OBTENER EL TÍTULO DE LA PELÍCULA EN EL RANKING"
      ],
      "metadata": {
        "id": "rcwChiHOnxNa"
      }
    },
    {
      "cell_type": "code",
      "source": [
        "query = \"harry potter\"\n",
        "query_vector = vectorizer.transform([query])\n",
        "\n",
        "# Calcular la similitud coseno entre el query y las reseñas\n",
        "cosine_similarities = cosine_similarity(query_vector, tfidf_matrix)\n",
        "\n",
        "# Obtener índices de las reseñas más similares\n",
        "similar_indices = cosine_similarities.argsort()[0][::-1]  # De mayor a menor similitud\n",
        "\n",
        "# Mostrar las 5 reseñas más similares, incluyendo el título de la película\n",
        "top_n = 5\n",
        "for idx in similar_indices[:top_n]:\n",
        "    review_content = corpus.iloc[idx]['review_content']\n",
        "    movie_id = corpus.iloc[idx]['rotten_tomatoes_link']\n",
        "\n",
        "    # Buscar el título de la película en el DataFrame 'movies'\n",
        "    movie_title = movies[movies['rotten_tomatoes_link'].str.contains(str(movie_id))]['movie_title'].values\n",
        "\n",
        "    if len(movie_title)>0:\n",
        "      print(f\"Movie Title: {movie_title[0]}\")\n",
        "    else:\n",
        "      print(\"Movie title not found.\")\n",
        "    print(f\"Review: {review_content}\")\n",
        "    print(f\"Similarity Score: {cosine_similarities[0][idx]}\")\n",
        "    print(\"-\" * 50)"
      ],
      "metadata": {
        "colab": {
          "base_uri": "https://localhost:8080/"
        },
        "id": "GAtFXEd_mS8J",
        "outputId": "d4747b6c-9f30-4eb6-8bae-24072a139742"
      },
      "execution_count": 47,
      "outputs": [
        {
          "output_type": "stream",
          "name": "stdout",
          "text": [
            "Movie Title: Harry Potter and the Half-Blood Prince\n",
            "Review: Harry Potter grows up. Harry Potter needs to shave. Harry Potter shows more interest in the young ladies at Hogwarts.\n",
            "Similarity Score: 0.8300538960992205\n",
            "--------------------------------------------------\n",
            "Movie Title: Harry Potter and the Prisoner of Azkaban\n",
            "Review: Not only is this the best Harry Potter movie, it is the first Harry Potter movie that actually qualifies as cinema.\n",
            "Similarity Score: 0.8190109529732601\n",
            "--------------------------------------------------\n",
            "Movie Title: Doctor Strange\n",
            "Review: The movie is very much Harry Potter for adults.\n",
            "Similarity Score: 0.80257967804759\n",
            "--------------------------------------------------\n",
            "Movie Title: Harry Potter and the Half-Blood Prince\n",
            "Review: Harry Potter and the Half-Blood Prince might be the best Harry Potter film yet.\n",
            "Similarity Score: 0.8015986168015141\n",
            "--------------------------------------------------\n",
            "Movie Title: Harry Potter and the Order of the Phoenix\n",
            "Review: The second best Harry Potter movie.\n",
            "Similarity Score: 0.7996267724674826\n",
            "--------------------------------------------------\n"
          ]
        }
      ]
    }
  ]
}